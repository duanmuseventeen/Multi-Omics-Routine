# https://singlecell.broadinstitute.org/single_cell/study/SCP1909/aortic-cellular-diversity-and-quantitative-genome-wide-association-study-trait-prioritization-through-single-nuclear-rna-sequencing-of-the-aneurysmal-human-aorta

# https://cloud.tencent.com/developer/article/2498090

import scanpy as sc
import os
import pandas as pd

adata = sc.read_h5ad("./AorticAneurysm_scportal_06.29.2022.h5ad") # ./ 方便在ipython中查找文件，而非函数

adata.obs['celltype2'] = adata.obs['celltype']
adata.obs['celltype2'] = adata.obs['celltype2'].cat.add_categories(["VSMC","Pericyte","Mesothelial","Fibroblast","Adipocyte","Endothelial","Lymphatic endothelial","Neuronal","Lymphocyte","Immune cells","Macrophage"])

# .loc函数避免pandas报错
adata.obs.loc[adata.obs["celltype"].isin(["01. VSMC1","02. VSMC2","03. VSMC3"]) ,"celltype2"] = "VSMC"
adata.obs.loc[adata.obs["celltype"].isin(["04. Pericyte"]) ,"celltype2"] = "Pericyte"
adata.obs.loc[adata.obs["celltype"].isin(["05. Mesothelial"]) ,"celltype2"] = "Mesothelial"
adata.obs.loc[adata.obs["celltype"].isin(["06. Fibroblast"]) ,"celltype2"] = "Fibroblast"
adata.obs.loc[adata.obs["celltype"].isin(["07. Adipocyte"]) ,"celltype2"] = "Adipocyte"
adata.obs.loc[adata.obs["celltype"].isin(["08. Endothelial1","09. Endothelial2"]) ,"celltype2"] = "Endothelial"
adata.obs.loc[adata.obs["celltype"].isin(["10. Lymphatic endothelial"]) ,"celltype2"] = "Lymphatic endothelial"
adata.obs.loc[adata.obs["celltype"].isin(["11. Neuronal"]) ,"celltype2"] = "Neuronal"
adata.obs.loc[adata.obs["celltype"].isin(["12. Lymphocyte"]) ,"celltype2"] = "Lymphocyte"
adata.obs.loc[adata.obs["celltype"].isin(["13. Immune cells"]) ,"celltype2"] = "Immune cells"
adata.obs.loc[adata.obs["celltype"].isin(["14. Macrophage"]) ,"celltype2"] = "Macrophage"

adata.obs['celltype2'] = adata.obs['celltype2'].cat.remove_categories(["01. VSMC1","02. VSMC2","03. VSMC3","04. Pericyte","05. Mesothelial","06. Fibroblast","07. Adipocyte","08. Endothelial1","09. Endothelial2","10. Lymphatic endothelial","11. Neuronal","12. Lymphocyte","13. Immune cells","14. Macrophage"])

genelist = pd.read_excel("./markers.xlsx")
genelist['SYMBOL']

sc.pl.dotplot(adata, var_names = genelist['SYMBOL'], groupby = "celltype2",cmap='viridis')
sc.pl.umap(adata, color = "celltype2")
sc.pl.umap(adata, color = "NEU1")
sc.pl.umap(adata, color = "NEU1", cmap = "OrRd") # 连续型变量使用cmap映射，分类型变量使用palette映射
